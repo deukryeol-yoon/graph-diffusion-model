{
 "cells": [
  {
   "cell_type": "code",
   "execution_count": 39,
   "id": "afd8dcfb",
   "metadata": {},
   "outputs": [],
   "source": [
    "import numpy as np\n",
    "import os\n",
    "import math\n",
    "import pickle"
   ]
  },
  {
   "cell_type": "code",
   "execution_count": 48,
   "id": "4c873e54",
   "metadata": {},
   "outputs": [],
   "source": [
    "dataname = \"mutag\""
   ]
  },
  {
   "cell_type": "code",
   "execution_count": 49,
   "id": "1d9040fd",
   "metadata": {},
   "outputs": [],
   "source": [
    "target_dir = \"./gan_{}/image_samples/images/\".format(dataname)"
   ]
  },
  {
   "cell_type": "code",
   "execution_count": 50,
   "id": "02971fdd",
   "metadata": {},
   "outputs": [],
   "source": [
    "sampled_adj = []\n",
    "\n",
    "for index, adj_npy in enumerate(os.listdir(target_dir)):\n",
    "    if adj_npy.endswith(\".npy\") is False:\n",
    "        continue\n",
    "    prob = np.load(target_dir + adj_npy)\n",
    "    one_indexes = np.where(prob > 0.5)\n",
    "    if len(prob.shape) < 2:\n",
    "        continue\n",
    "    sampled = np.zeros_like(prob)\n",
    "    sampled[one_indexes] = 1\n",
    "    sampled = sampled[~np.all(sampled == 0, axis=1)]\n",
    "    sampled = sampled[:,~np.all(sampled == 0, axis = 0)]\n",
    "#     if index < 10:\n",
    "#         print(sampled)\n",
    "#         print()\n",
    "    sampled_adj.append(sampled)"
   ]
  },
  {
   "cell_type": "code",
   "execution_count": 51,
   "id": "c0742cc5",
   "metadata": {},
   "outputs": [],
   "source": [
    "with open(dataname + \"_sampled.pkl\", \"wb\") as f:\n",
    "    pickle.dump(sampled_adj, f)"
   ]
  },
  {
   "cell_type": "code",
   "execution_count": null,
   "id": "9e5ec513",
   "metadata": {},
   "outputs": [],
   "source": []
  }
 ],
 "metadata": {
  "kernelspec": {
   "display_name": "Full on Python 3.7 (GPU)",
   "language": "python",
   "name": "python3"
  },
  "language_info": {
   "codemirror_mode": {
    "name": "ipython",
    "version": 3
   },
   "file_extension": ".py",
   "mimetype": "text/x-python",
   "name": "python",
   "nbconvert_exporter": "python",
   "pygments_lexer": "ipython3",
   "version": "3.7.11"
  }
 },
 "nbformat": 4,
 "nbformat_minor": 5
}
